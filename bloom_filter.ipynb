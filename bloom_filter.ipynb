{
 "cells": [
  {
   "cell_type": "code",
   "execution_count": 1,
   "metadata": {},
   "outputs": [],
   "source": [
    "import sys\n",
    "import random\n",
    "import string\n",
    "import math\n",
    "import matplotlib.pyplot as plt\n",
    "from bitarray import bitarray\n",
    "# from hashlib import md5"
   ]
  },
  {
   "cell_type": "markdown",
   "metadata": {},
   "source": [
    "# Bloom Filter"
   ]
  },
  {
   "cell_type": "markdown",
   "metadata": {},
   "source": [
    "## Code"
   ]
  },
  {
   "cell_type": "code",
   "execution_count": 2,
   "metadata": {},
   "outputs": [],
   "source": [
    "def hash_function_generator(num_bits, num_functions):\n",
    "    '''\n",
    "    Returns a list of `num_functions` almost-independent hash functions\n",
    "    Assumes that the input to the hash function has a good __hash__() method defined\n",
    "    '''\n",
    "    hash_functions = [None] * num_functions\n",
    "    for i in range(num_functions):\n",
    "        random.seed(i)\n",
    "        mask = random.getrandbits(64)\n",
    "        hash_functions[i] = lambda x : (hash(x) ^ mask) % num_bits\n",
    "    return hash_functions\n",
    "\n",
    "class BloomFilter():\n",
    "    def __init__(self, num_bits, num_functions):\n",
    "        self.num_bits = num_bits\n",
    "        self.num_functions = num_functions\n",
    "        self.num_ones = 0\n",
    "        self.bits = bitarray('0' * num_bits)\n",
    "        self.hash_functions = hash_function_generator(num_bits, num_functions)\n",
    "    \n",
    "    def _get_hash_values(self, element):\n",
    "        '''Returns a list of hash values for the element'''\n",
    "        return [hash_function(element) for hash_function in self.hash_functions]\n",
    "    \n",
    "    def add(self, element):\n",
    "        '''Adds the element to the Bloom filter'''\n",
    "        hash_values = self._get_hash_values(element)\n",
    "        for index in hash_values:\n",
    "            if self.bits[index] == 0:\n",
    "                self.num_ones += 1\n",
    "            self.bits[index] = 1\n",
    "            \n",
    "    def set_bits(self, bits):\n",
    "        self.bits = bits\n",
    "        \n",
    "    def union(self, filter2):\n",
    "        '''\n",
    "        Returns the approximate union of self with filter2. Both filters must have the same number of bits\n",
    "        The returned filter will have a number of hash functions equal to that of self\n",
    "        '''\n",
    "        assert self.num_bits == filter2.num_bits\n",
    "        new_filter = BloomFilter(self.num_bits, self.num_functions)\n",
    "        new_bits = self.bits | filter2.bits\n",
    "        new_filter.set_bits(new_bits)\n",
    "        return new_filter\n",
    "    \n",
    "    def intersection(self, filter2):\n",
    "        '''\n",
    "        Returns the approximate intersection of self with filter2. Both filters must have the same number of bits\n",
    "        The returned filter will have a number of hash functions equal to that of self\n",
    "        '''\n",
    "        assert self.num_bits == filter2.num_bits\n",
    "        new_filter = BloomFilter(self.num_bits, self.num_functions)\n",
    "        new_bits = self.bits & filter2.bits\n",
    "        new_filter.set_bits(new_bits)\n",
    "        return new_filter\n",
    "            \n",
    "    def __contains__(self, element):\n",
    "        '''Always returns True if the element has been added, but may sometimes return True\n",
    "        even if the element has not been added'''\n",
    "        hash_values = self._get_hash_values(element)\n",
    "        all_relevant_bits_are_one = all(self.bits[index] == 1 for index in hash_values)\n",
    "        return all_relevant_bits_are_one\n",
    "    \n",
    "    def __len__(self):\n",
    "        '''\n",
    "        Returns the approximate number of elements in the filter. If all bits are 1,\n",
    "        it throws an exception.\n",
    "        '''\n",
    "        if self.num_ones == self.num_bits:\n",
    "            raise Exception('All bits are 1. This filter could be arbitrarily large.')\n",
    "        return int(-(self.num_bits / self.num_functions) * math.log(1 - (self.num_ones / self.num_bits)))\n",
    "    "
   ]
  },
  {
   "cell_type": "markdown",
   "metadata": {},
   "source": [
    "## Test cases"
   ]
  },
  {
   "cell_type": "code",
   "execution_count": 3,
   "metadata": {
    "scrolled": false
   },
   "outputs": [
    {
     "data": {
      "image/png": "[encoded data removed]",
      "text/plain": [
       "<Figure size 432x288 with 1 Axes>"
      ]
     },
     "metadata": {},
     "output_type": "display_data"
    },
    {
     "name": "stdout",
     "output_type": "stream",
     "text": [
      "Approx filter size is  0\n",
      "Approx filter size is  9\n"
     ]
    },
    {
     "data": {
      "image/png": "[encoded data removed]",
      "text/plain": [
       "<Figure size 432x288 with 1 Axes>"
      ]
     },
     "metadata": {},
     "output_type": "display_data"
    },
    {
     "name": "stdout",
     "output_type": "stream",
     "text": [
      "Approx filter size is  0\n",
      "Approx filter size is  1\n",
      "Approx filter size is  107\n"
     ]
    },
    {
     "data": {
      "image/png": "[encoded data removed]",
      "text/plain": [
       "<Figure size 432x288 with 1 Axes>"
      ]
     },
     "metadata": {},
     "output_type": "display_data"
    },
    {
     "name": "stdout",
     "output_type": "stream",
     "text": [
      "Approx filter size is  0\n",
      "Approx filter size is  0\n",
      "Approx filter size is  13\n",
      "Approx filter size is  975\n"
     ]
    },
    {
     "data": {
      "image/png": "[encoded data removed]",
      "text/plain": [
       "<Figure size 432x288 with 1 Axes>"
      ]
     },
     "metadata": {},
     "output_type": "display_data"
    },
    {
     "name": "stdout",
     "output_type": "stream",
     "text": [
      "Approx filter size is  0\n",
      "Approx filter size is  0\n",
      "Approx filter size is  1\n",
      "Approx filter size is  143\n",
      "Approx filter size is  10086\n"
     ]
    },
    {
     "data": {
      "image/png": "[encoded data removed]",
      "text/plain": [
       "<Figure size 432x288 with 1 Axes>"
      ]
     },
     "metadata": {},
     "output_type": "display_data"
    },
    {
     "name": "stdout",
     "output_type": "stream",
     "text": [
      "Approx filter size is  0\n",
      "Approx filter size is  0\n",
      "Approx filter size is  0\n",
      "Approx filter size is  14\n",
      "Approx filter size is  1430\n"
     ]
    },
    {
     "data": {
      "image/png": "[encoded data removed]",
      "text/plain": [
       "<Figure size 432x288 with 1 Axes>"
      ]
     },
     "metadata": {},
     "output_type": "display_data"
    }
   ],
   "source": [
    "random.seed(0)\n",
    "\n",
    "orders_of_magnitude_for_n = range(5)\n",
    "orders_of_magnitude_for_m = range(6)\n",
    "\n",
    "for j in orders_of_magnitude_for_m:\n",
    "    false_positive_ratios = []\n",
    "    m = 10 ** j\n",
    "\n",
    "    for i in orders_of_magnitude_for_n:\n",
    "        n = 10 ** i\n",
    "        k = math.ceil((m / n) * math.log(2))\n",
    "        bf = BloomFilter(m, k)\n",
    "        \n",
    "        # Generating n random numbers as test cases\n",
    "        ground_truth = set(random.getrandbits(64) for i in range(n))\n",
    "\n",
    "        # Adding all elements to Bloom filter\n",
    "        for element in ground_truth:\n",
    "            bf.add(element)\n",
    "\n",
    "        # Verifying that there are no false negatives\n",
    "        for element in ground_truth:\n",
    "            assert element in bf, f'False negative for element {element}'\n",
    "\n",
    "        # Estimating the number of false positives\n",
    "        num_false_positives = 0\n",
    "        num_elements_not_in_ground_truth = 0\n",
    "        for i in range(1000):\n",
    "            random_element = random.getrandbits(64)\n",
    "            if random_element not in ground_truth:\n",
    "                num_elements_not_in_ground_truth += 1\n",
    "                if random_element in bf:\n",
    "                    num_false_positives += 1\n",
    "        false_positive_ratios.append(num_false_positives / num_elements_not_in_ground_truth)\n",
    "        \n",
    "        try:\n",
    "            print('Approx filter size is ', len(bf))\n",
    "        except Exception as e:\n",
    "            pass\n",
    "\n",
    "    # Plot bar chart\n",
    "    x_labels = [f'10^{i}' for i in orders_of_magnitude_for_n]\n",
    "    plt.bar(orders_of_magnitude_for_n, height=false_positive_ratios)\n",
    "    plt.xticks(orders_of_magnitude_for_n, x_labels)\n",
    "    plt.xlabel('Number of elements stored (n)')\n",
    "    plt.ylabel('Approx. false positive probability')\n",
    "    plt.title(f'Number of bits (m) = 10^{j}')\n",
    "    plt.show()"
   ]
  },
  {
   "cell_type": "markdown",
   "metadata": {},
   "source": [
    "# Spell Checker"
   ]
  },
  {
   "cell_type": "markdown",
   "metadata": {},
   "source": [
    "## Code"
   ]
  },
  {
   "cell_type": "code",
   "execution_count": 4,
   "metadata": {},
   "outputs": [],
   "source": [
    "class SpellChecker():\n",
    "    def __init__(self, path_to_dictionary, false_positive_probability):\n",
    "        # Calculating optimal parameters for Bloom filter\n",
    "        with open(path_to_dictionary, 'r', encoding='latin-1') as f:\n",
    "            num_words = sum(1 for line in f)\n",
    "        log_prob = math.log(false_positive_probability, 2)\n",
    "        num_bits = math.ceil(num_words * (-1.44 * log_prob))\n",
    "        num_hash_functions = math.ceil(-log_prob)\n",
    "        self.bloom_filter = BloomFilter(num_bits, num_hash_functions)\n",
    "        print(f'Initialized a Bloom filter with {num_bits} bits and {num_hash_functions} hash functions')\n",
    "            \n",
    "        # Adding words to the Bloom filter\n",
    "        with open(path_to_dictionary, 'r', encoding='latin-1') as f:\n",
    "            for word in f:\n",
    "                word = word.rstrip()\n",
    "                self.bloom_filter.add(word)\n",
    "                \n",
    "    def exists(self, word):\n",
    "        return word in self.bloom_filter\n",
    "    \n",
    "    def add_word(self, word):\n",
    "        self.bloom_filter.add(word)"
   ]
  },
  {
   "cell_type": "markdown",
   "metadata": {},
   "source": [
    "## Test cases"
   ]
  },
  {
   "cell_type": "code",
   "execution_count": 6,
   "metadata": {},
   "outputs": [
    {
     "name": "stdout",
     "output_type": "stream",
     "text": [
      "Initialized a Bloom filter with 4863204 bits and 10 hash functions\n",
      "Ratio of false positives is 0.068\n"
     ]
    }
   ],
   "source": [
    "random.seed(0)\n",
    "\n",
    "sc = SpellChecker('./wordlist.txt', 0.001)\n",
    "\n",
    "# Load the set of ground truth words\n",
    "with open('./wordlist.txt', 'r', encoding='latin-1') as f:\n",
    "    all_words = set()\n",
    "    for word in f:\n",
    "        all_words.add(word.rstrip())\n",
    "        \n",
    "# Make sure there are no false negatives\n",
    "for word in all_words:\n",
    "    assert sc.exists(word), word\n",
    "\n",
    "def random_string_generator(length):\n",
    "    return ''.join(random.choice(string.ascii_uppercase + string.digits) for _ in range(length))\n",
    "\n",
    "# Estimating the number of false positives\n",
    "num_false_positives = 0\n",
    "num_elements_not_in_ground_truth = 0\n",
    "for i in range(1000):\n",
    "    random_string = random_string_generator(6)\n",
    "    if random_string not in all_words:\n",
    "        num_elements_not_in_ground_truth += 1\n",
    "        if sc.exists(random_string):\n",
    "            num_false_positives += 1\n",
    "print(f'Ratio of false positives is {num_false_positives / num_elements_not_in_ground_truth}')"
   ]
  },
  {
   "cell_type": "code",
   "execution_count": null,
   "metadata": {},
   "outputs": [],
   "source": []
  },
  {
   "cell_type": "code",
   "execution_count": null,
   "metadata": {},
   "outputs": [],
   "source": []
  },
  {
   "cell_type": "code",
   "execution_count": null,
   "metadata": {},
   "outputs": [],
   "source": []
  },
  {
   "cell_type": "code",
   "execution_count": null,
   "metadata": {},
   "outputs": [],
   "source": []
  },
  {
   "cell_type": "code",
   "execution_count": null,
   "metadata": {},
   "outputs": [],
   "source": []
  },
  {
   "cell_type": "code",
   "execution_count": null,
   "metadata": {},
   "outputs": [],
   "source": []
  },
  {
   "cell_type": "code",
   "execution_count": null,
   "metadata": {},
   "outputs": [],
   "source": []
  }
 ],
 "metadata": {
  "kernelspec": {
   "display_name": "Python 3",
   "language": "python",
   "name": "python3"
  },
  "language_info": {
   "codemirror_mode": {
    "name": "ipython",
    "version": 3
   },
   "file_extension": ".py",
   "mimetype": "text/x-python",
   "name": "python",
   "nbconvert_exporter": "python",
   "pygments_lexer": "ipython3",
   "version": "3.6.6"
  }
 },
 "nbformat": 4,
 "nbformat_minor": 2
}
